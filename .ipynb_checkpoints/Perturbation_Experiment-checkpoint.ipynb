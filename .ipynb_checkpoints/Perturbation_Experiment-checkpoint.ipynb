{
 "cells": [
  {
   "cell_type": "code",
   "execution_count": 1,
   "metadata": {},
   "outputs": [],
   "source": [
    "import os\n",
    "import networkx as nx\n",
    "import pandas as pd\n",
    "import random"
   ]
  },
  {
   "cell_type": "code",
   "execution_count": 2,
   "metadata": {},
   "outputs": [],
   "source": [
    "edgelist = pd.read_csv('data/cora/cora.cites', sep='\\t', names=['target', 'source'])\n",
    "edgelist['label'] = 'cites'"
   ]
  },
  {
   "cell_type": "code",
   "execution_count": 3,
   "metadata": {},
   "outputs": [],
   "source": [
    "G = nx.from_pandas_edgelist(edgelist, \n",
    "                            edge_attr=\"label\", \n",
    "                            source='source',\n",
    "                            target='target'\n",
    "                           )\n",
    "# Get Largest Connected Component\n",
    "gs = [G.subgraph(c) for c in nx.connected_components(G)]\n",
    "G = max(gs, key=len)"
   ]
  },
  {
   "cell_type": "code",
   "execution_count": 4,
   "metadata": {},
   "outputs": [],
   "source": [
    "class GraphProperties:\n",
    "    DEGREE_CENTRALITY = (1, 'Degree Centrality')\n",
    "    BETWEENNESS_CENTRALITY = (2, 'Betweenness Centrality')\n",
    "    \n",
    "    @classmethod\n",
    "    def get_graph_property(cls, G, prop):\n",
    "        if(prop == 1):\n",
    "            return cls._average_degree_centrality(G)\n",
    "        if(prop == 2):\n",
    "            return cls._average_betweenness_centrality(G)\n",
    "      \n",
    "    def _average_betweenness_centrality(G):\n",
    "        return sum(dict(nx.betweenness_centrality(G)).values())/float(len(G))\n",
    "    \n",
    "\n",
    "    def _average_degree_centrality(G):\n",
    "        return sum(dict(nx.degree_centrality(G)).values())/float(len(G))             "
   ]
  },
  {
   "cell_type": "code",
   "execution_count": 5,
   "metadata": {},
   "outputs": [],
   "source": [
    "class GraphModifier:\n",
    "    graph = None\n",
    "    \n",
    "    def __init__(self, graph):\n",
    "        self.graph = graph.copy()\n",
    "        \n",
    "    # returns graph with edges removed, but leaves self.graph unchanged\n",
    "    def remove_random_edges(self, num_edges):\n",
    "        prev_edges = []\n",
    "        H = self.graph.copy()\n",
    "        for i in range(0, num_edges):\n",
    "            total_edges = H.number_of_edges()\n",
    "            rand_edge_index = random.choice([x for x in range(total_edges) if x not in prev_edges]) # SLOW\n",
    "            prev_edges.append(rand_edge_index)\n",
    "            edge_tuple = list(H.edges)[rand_edge_index]\n",
    "            H.remove_edge(*edge_tuple)\n",
    "        return H"
   ]
  },
  {
   "cell_type": "code",
   "execution_count": 6,
   "metadata": {},
   "outputs": [],
   "source": [
    "def perturb_sparsify_and_print_property(G, pert_options, graph_property, num_trials):\n",
    "    \n",
    "    print(graph_property[1], \" of the spanner of perturbed graph\")\n",
    "    print(\"Perturbation: \", pert_options['num_edges'], \" edges are randomly \", pert_options['pert_type'])\n",
    "    \n",
    "    modifier = GraphModifier(G)\n",
    "    for i in range(num_trials):\n",
    "        H = modifier.remove_random_edges(pert_options['num_edges'])\n",
    "        Hsparse = nx.spanner(H,3,seed=1)\n",
    "        prop = GraphProperties.get_graph_property(H, graph_property[0])\n",
    "        print(prop)\n",
    "        \n",
    "def sparsify_and_print_property(G, graph_property):\n",
    "    Hsparse = nx.spanner(G,3,seed=1)\n",
    "    prop = GraphProperties.get_graph_property(G, graph_property[0])\n",
    "    print(graph_property[1], \" of the spanner of unperturbed graph\")\n",
    "    print(prop)\n",
    "    print()\n",
    "    "
   ]
  },
  {
   "cell_type": "code",
   "execution_count": 7,
   "metadata": {},
   "outputs": [
    {
     "name": "stdout",
     "output_type": "stream",
     "text": [
      "Degree Centrality  of the spanner of unperturbed graph\n",
      "0.0016423824752054316\n",
      "\n",
      "Degree Centrality  of the spanner of perturbed graph\n",
      "Perturbation:  50  edges are randomly  remove\n",
      "0.0016261822140572208\n",
      "0.0016261822140572215\n",
      "0.001626182214057223\n"
     ]
    }
   ],
   "source": [
    "# Run with DEGREE CENTRALITY\n",
    "\n",
    "num_trials = 3 # How many times to repeat experiement\n",
    "graph_property = GraphProperties.DEGREE_CENTRALITY\n",
    "pert_options = {'pert_type': 'remove',\n",
    "                'num_edges': 50}\n",
    "\n",
    "sparsify_and_print_property(G, graph_property)\n",
    "perturb_sparsify_and_print_property(G, pert_options, graph_property, num_trials)"
   ]
  },
  {
   "cell_type": "code",
   "execution_count": 58,
   "metadata": {},
   "outputs": [
    {
     "name": "stdout",
     "output_type": "stream",
     "text": [
      "Betweenness Centrality  of the spanner of unperturbed graph\n",
      "0.002138944293716756\n",
      "\n",
      "Betweenness Centrality  of the spanner of perturbed graph\n",
      "Perturbation:  50  edges are randomly  remove\n",
      "0.0021444836999672924\n",
      "0.002135896321909279\n",
      "0.002146518551939475\n"
     ]
    }
   ],
   "source": [
    "# Run with BETWEENNESS CENTRALITY\n",
    "\n",
    "graph_property = GraphProperties.BETWEENNESS_CENTRALITY\n",
    "\n",
    "sparsify_and_print_property(G, graph_property)\n",
    "perturb_sparsify_and_print_property(G, pert_options, graph_property, num_trials)"
   ]
  }
 ],
 "metadata": {
  "kernelspec": {
   "display_name": "Python 3",
   "language": "python",
   "name": "python3"
  },
  "language_info": {
   "codemirror_mode": {
    "name": "ipython",
    "version": 3
   },
   "file_extension": ".py",
   "mimetype": "text/x-python",
   "name": "python",
   "nbconvert_exporter": "python",
   "pygments_lexer": "ipython3",
   "version": "3.8.5"
  }
 },
 "nbformat": 4,
 "nbformat_minor": 4
}
