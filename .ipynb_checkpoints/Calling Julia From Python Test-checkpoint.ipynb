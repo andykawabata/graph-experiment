{
 "cells": [
  {
   "cell_type": "code",
   "execution_count": 2,
   "metadata": {},
   "outputs": [],
   "source": [
    "from julia.api import Julia\n",
    "jl = Julia(compiled_modules=False)"
   ]
  },
  {
   "cell_type": "code",
   "execution_count": 3,
   "metadata": {},
   "outputs": [],
   "source": [
    "import os\n",
    "import networkx as nx\n",
    "import pandas as pd\n",
    "import random\n",
    "import numpy as np\n",
    "from julia import Main\n",
    "import matplotlib.pyplot as plt"
   ]
  },
  {
   "cell_type": "code",
   "execution_count": 58,
   "metadata": {},
   "outputs": [],
   "source": [
    "class DataSets:\n",
    "    base_path = 'data/'\n",
    "    CORA =     {'path': 'cora/cora.cites', 'sep': '\\t', 'name': 'Cora'}  # ~ 5K edges 2K nodes\n",
    "    FACEBOOK = {'path': 'facebook/facebook_combined.txt', 'sep': ' ', 'name': 'Facebook'} # ~88K edges 4K nodes\n",
    "    ENRON_EMAILS = {'path': 'enron/email-Enron.txt', 'sep': '\\t', 'name': 'Enron Emails'} # ~ 184K edges 33K nodes\n",
    "    GRQC = {'path': 'grqc/ca-GrQc.txt', 'sep': '\\t', 'name': 'General Relativity & Quantum Cosmology collab network'}\n",
    "\n",
    "    # returns an networkx graph object representing the dataset\n",
    "    # if lcc is true, it returns only largest connected component\n",
    "    @classmethod\n",
    "    def get_undirected_networkx_graph(cls, dataset, lcc=True):\n",
    "        path = cls.base_path + dataset['path']\n",
    "        separator = dataset['sep']\n",
    "        edgelist = pd.read_csv(path, sep=separator, names=['target', 'source'], comment='#')\n",
    "        G = nx.from_pandas_edgelist(edgelist)\n",
    "        if lcc == True:\n",
    "            gs = [G.subgraph(c) for c in nx.connected_components(G)]\n",
    "            G = max(gs, key=len)\n",
    "        return G\n",
    "    \n",
    "    @classmethod\n",
    "    def print_graph_properties(cls, dataset):\n",
    "        path = cls.base_path + dataset['path']\n",
    "        separator = dataset['sep']\n",
    "        edgelist = pd.read_csv(path, sep=separator, names=['target', 'source'], comment='#')\n",
    "        G = nx.from_pandas_edgelist(edgelist)\n",
    "        print(\"--\", dataset['name'], \"--\")\n",
    "        print(\"FULL GRAPH - nodes:\", G.number_of_nodes(), \"edges:\", G.number_of_edges())\n",
    "        gs = [G.subgraph(c) for c in nx.connected_components(G)]\n",
    "        G = max(gs, key=len)\n",
    "        print(\"LCC -        nodes:\", G.number_of_nodes(), \"edges:\", G.number_of_edges(), '\\n')"
   ]
  },
  {
   "cell_type": "code",
   "execution_count": 63,
   "metadata": {},
   "outputs": [
    {
     "name": "stdout",
     "output_type": "stream",
     "text": [
      "-- General Relativity & Quantum Cosmology collab network --\n",
      "FULL GRAPH - nodes: 5242 edges: 14496\n",
      "LCC -        nodes: 4158 edges: 13428 \n",
      "\n"
     ]
    }
   ],
   "source": [
    "DataSets.print_graph_properties(DataSets.GRQC)"
   ]
  },
  {
   "cell_type": "code",
   "execution_count": 75,
   "metadata": {},
   "outputs": [
    {
     "ename": "RuntimeError",
     "evalue": "<PyCall.jlwrap (in a Julia function called from Python)\nJULIA: PosDefException: matrix is not positive definite; Cholesky factorization failed.\nStacktrace:\n [1] #cholesky!#6 at /Users/julia/buildbot/worker/package_macos64/build/usr/share/julia/stdlib/v1.5/SuiteSparse/src/cholmod.jl:1308 [inlined]\n [2] cholesky(::SuiteSparse.CHOLMOD.Sparse{Float64}; shift::Float64, check::Bool, perm::Nothing) at /Users/julia/buildbot/worker/package_macos64/build/usr/share/julia/stdlib/v1.5/SuiteSparse/src/cholmod.jl:1346\n [3] cholesky at /Users/julia/buildbot/worker/package_macos64/build/usr/share/julia/stdlib/v1.5/SuiteSparse/src/cholmod.jl:1339 [inlined]\n [4] #cholesky#9 at /Users/julia/buildbot/worker/package_macos64/build/usr/share/julia/stdlib/v1.5/SuiteSparse/src/cholmod.jl:1458 [inlined]\n [5] cholesky at /Users/julia/buildbot/worker/package_macos64/build/usr/share/julia/stdlib/v1.5/SuiteSparse/src/cholmod.jl:1458 [inlined]\n [6] #130 at /Users/andrewkawabata/.julia/packages/Laplacians/CD1YV/src/solverInterface.jl:79 [inlined]\n [7] wrapInterface(::Laplacians.var\"#130#131\", ::SparseMatrixCSC{Float64,Int64}; tol::Int64, maxits::Float64, maxtime::Float64, verbose::Bool, pcgIts::Array{Int64,1}, params::Base.Iterators.Pairs{Union{},Union{},Tuple{},NamedTuple{(),Tuple{}}}) at /Users/andrewkawabata/.julia/packages/Laplacians/CD1YV/src/solverInterface.jl:36\n [8] #125#126 at /Users/andrewkawabata/.julia/packages/Laplacians/CD1YV/src/solverInterface.jl:64 [inlined]\n [9] lapWrapConnected(::Function, ::SparseMatrixCSC{Float64,Int64}; tol::Float64, maxits::Float64, maxtime::Float64, verbose::Bool, pcgIts::Array{Int64,1}, params::Base.Iterators.Pairs{Union{},Union{},Tuple{},NamedTuple{(),Tuple{}}}) at /Users/andrewkawabata/.julia/packages/Laplacians/CD1YV/src/solverInterface.jl:120\n [10] lapWrapConnected(::Function, ::SparseMatrixCSC{Float64,Int64}) at /Users/andrewkawabata/.julia/packages/Laplacians/CD1YV/src/solverInterface.jl:113\n [11] lapWrapComponents(::Function, ::SparseMatrixCSC{Float64,Int64}; tol::Float64, maxits::Int64, maxtime::Float64, verbose::Bool, pcgIts::Array{Int64,1}, params::Base.Iterators.Pairs{Symbol,ApproxCholParams,Tuple{Symbol},NamedTuple{(:params,),Tuple{ApproxCholParams}}}) at /Users/andrewkawabata/.julia/packages/Laplacians/CD1YV/src/solverInterface.jl:243\n [12] #approxchol_lap#216 at /Users/andrewkawabata/.julia/packages/Laplacians/CD1YV/src/approxChol.jl:756 [inlined]\n [13] sparsify(::SparseMatrixCSC{Float64,Int64}; ep::Int64, matrixConcConst::Float64, JLfac::Float64) at /Users/andrewkawabata/.julia/packages/Laplacians/CD1YV/src/sparsify.jl:21\n [14] sparsifyGraph(::Array{Int64,1}, ::Array{Int64,1}) at /Users/andrewkawabata/Desktop/notebooks/Research/experiment-1/script.jl:6\n [15] invokelatest(::Any, ::Any, ::Vararg{Any,N} where N; kwargs::Base.Iterators.Pairs{Union{},Union{},Tuple{},NamedTuple{(),Tuple{}}}) at ./essentials.jl:710\n [16] invokelatest(::Any, ::Any, ::Vararg{Any,N} where N) at ./essentials.jl:709\n [17] _pyjlwrap_call(::Function, ::Ptr{PyCall.PyObject_struct}, ::Ptr{PyCall.PyObject_struct}) at /Users/andrewkawabata/.julia/packages/PyCall/tqyST/src/callback.jl:28\n [18] pyjlwrap_call(::Ptr{PyCall.PyObject_struct}, ::Ptr{PyCall.PyObject_struct}, ::Ptr{PyCall.PyObject_struct}) at /Users/andrewkawabata/.julia/packages/PyCall/tqyST/src/callback.jl:44>",
     "output_type": "error",
     "traceback": [
      "\u001b[0;31m---------------------------------------------------------------------------\u001b[0m",
      "\u001b[0;31mRuntimeError\u001b[0m                              Traceback (most recent call last)",
      "\u001b[0;32m<ipython-input-75-3d869fd37f18>\u001b[0m in \u001b[0;36m<module>\u001b[0;34m\u001b[0m\n\u001b[1;32m      9\u001b[0m \u001b[0mtarget_nodes\u001b[0m \u001b[0;34m=\u001b[0m \u001b[0;34m[\u001b[0m\u001b[0mx\u001b[0m\u001b[0;34m[\u001b[0m\u001b[0;36m1\u001b[0m\u001b[0;34m]\u001b[0m \u001b[0;32mfor\u001b[0m \u001b[0mx\u001b[0m \u001b[0;32min\u001b[0m \u001b[0medgelist\u001b[0m\u001b[0;34m]\u001b[0m\u001b[0;34m\u001b[0m\u001b[0;34m\u001b[0m\u001b[0m\n\u001b[1;32m     10\u001b[0m \u001b[0;34m\u001b[0m\u001b[0m\n\u001b[0;32m---> 11\u001b[0;31m \u001b[0mGsparse\u001b[0m \u001b[0;34m=\u001b[0m \u001b[0mMain\u001b[0m\u001b[0;34m.\u001b[0m\u001b[0msparsifyGraph\u001b[0m\u001b[0;34m(\u001b[0m\u001b[0msource_nodes\u001b[0m\u001b[0;34m,\u001b[0m \u001b[0mtarget_nodes\u001b[0m\u001b[0;34m)\u001b[0m\u001b[0;34m\u001b[0m\u001b[0;34m\u001b[0m\u001b[0m\n\u001b[0m\u001b[1;32m     12\u001b[0m \u001b[0mGsparse\u001b[0m\u001b[0;34m\u001b[0m\u001b[0;34m\u001b[0m\u001b[0m\n",
      "\u001b[0;31mRuntimeError\u001b[0m: <PyCall.jlwrap (in a Julia function called from Python)\nJULIA: PosDefException: matrix is not positive definite; Cholesky factorization failed.\nStacktrace:\n [1] #cholesky!#6 at /Users/julia/buildbot/worker/package_macos64/build/usr/share/julia/stdlib/v1.5/SuiteSparse/src/cholmod.jl:1308 [inlined]\n [2] cholesky(::SuiteSparse.CHOLMOD.Sparse{Float64}; shift::Float64, check::Bool, perm::Nothing) at /Users/julia/buildbot/worker/package_macos64/build/usr/share/julia/stdlib/v1.5/SuiteSparse/src/cholmod.jl:1346\n [3] cholesky at /Users/julia/buildbot/worker/package_macos64/build/usr/share/julia/stdlib/v1.5/SuiteSparse/src/cholmod.jl:1339 [inlined]\n [4] #cholesky#9 at /Users/julia/buildbot/worker/package_macos64/build/usr/share/julia/stdlib/v1.5/SuiteSparse/src/cholmod.jl:1458 [inlined]\n [5] cholesky at /Users/julia/buildbot/worker/package_macos64/build/usr/share/julia/stdlib/v1.5/SuiteSparse/src/cholmod.jl:1458 [inlined]\n [6] #130 at /Users/andrewkawabata/.julia/packages/Laplacians/CD1YV/src/solverInterface.jl:79 [inlined]\n [7] wrapInterface(::Laplacians.var\"#130#131\", ::SparseMatrixCSC{Float64,Int64}; tol::Int64, maxits::Float64, maxtime::Float64, verbose::Bool, pcgIts::Array{Int64,1}, params::Base.Iterators.Pairs{Union{},Union{},Tuple{},NamedTuple{(),Tuple{}}}) at /Users/andrewkawabata/.julia/packages/Laplacians/CD1YV/src/solverInterface.jl:36\n [8] #125#126 at /Users/andrewkawabata/.julia/packages/Laplacians/CD1YV/src/solverInterface.jl:64 [inlined]\n [9] lapWrapConnected(::Function, ::SparseMatrixCSC{Float64,Int64}; tol::Float64, maxits::Float64, maxtime::Float64, verbose::Bool, pcgIts::Array{Int64,1}, params::Base.Iterators.Pairs{Union{},Union{},Tuple{},NamedTuple{(),Tuple{}}}) at /Users/andrewkawabata/.julia/packages/Laplacians/CD1YV/src/solverInterface.jl:120\n [10] lapWrapConnected(::Function, ::SparseMatrixCSC{Float64,Int64}) at /Users/andrewkawabata/.julia/packages/Laplacians/CD1YV/src/solverInterface.jl:113\n [11] lapWrapComponents(::Function, ::SparseMatrixCSC{Float64,Int64}; tol::Float64, maxits::Int64, maxtime::Float64, verbose::Bool, pcgIts::Array{Int64,1}, params::Base.Iterators.Pairs{Symbol,ApproxCholParams,Tuple{Symbol},NamedTuple{(:params,),Tuple{ApproxCholParams}}}) at /Users/andrewkawabata/.julia/packages/Laplacians/CD1YV/src/solverInterface.jl:243\n [12] #approxchol_lap#216 at /Users/andrewkawabata/.julia/packages/Laplacians/CD1YV/src/approxChol.jl:756 [inlined]\n [13] sparsify(::SparseMatrixCSC{Float64,Int64}; ep::Int64, matrixConcConst::Float64, JLfac::Float64) at /Users/andrewkawabata/.julia/packages/Laplacians/CD1YV/src/sparsify.jl:21\n [14] sparsifyGraph(::Array{Int64,1}, ::Array{Int64,1}) at /Users/andrewkawabata/Desktop/notebooks/Research/experiment-1/script.jl:6\n [15] invokelatest(::Any, ::Any, ::Vararg{Any,N} where N; kwargs::Base.Iterators.Pairs{Union{},Union{},Tuple{},NamedTuple{(),Tuple{}}}) at ./essentials.jl:710\n [16] invokelatest(::Any, ::Any, ::Vararg{Any,N} where N) at ./essentials.jl:709\n [17] _pyjlwrap_call(::Function, ::Ptr{PyCall.PyObject_struct}, ::Ptr{PyCall.PyObject_struct}) at /Users/andrewkawabata/.julia/packages/PyCall/tqyST/src/callback.jl:28\n [18] pyjlwrap_call(::Ptr{PyCall.PyObject_struct}, ::Ptr{PyCall.PyObject_struct}, ::Ptr{PyCall.PyObject_struct}) at /Users/andrewkawabata/.julia/packages/PyCall/tqyST/src/callback.jl:44>"
     ]
    }
   ],
   "source": [
    "# if node numbers start at 0, add one to every node (Laplacians.sparsify doesn't like it)\n",
    "G = DataSets.get_undirected_networkx_graph(DataSets.GRQC, False)\n",
    "\n",
    "Main.eval(\"@eval Main import Base.MainInclude: include\")\n",
    "Main.include(\"script.jl\")\n",
    "    \n",
    "edgelist = list(G.edges())\n",
    "source_nodes = [x[0] for x in edgelist]\n",
    "target_nodes = [x[1] for x in edgelist]\n",
    "\n",
    "Gsparse = Main.sparsifyGraph(source_nodes, target_nodes)\n",
    "Gsparse"
   ]
  },
  {
   "cell_type": "code",
   "execution_count": 48,
   "metadata": {},
   "outputs": [],
   "source": [
    "G = DataSets.get_undirected_networkx_graph(DataSets.FACEBOOK)\n",
    "el = list(G.edges())"
   ]
  },
  {
   "cell_type": "code",
   "execution_count": null,
   "metadata": {},
   "outputs": [],
   "source": [
    "'''\n",
    "def sparsify_spectral(G, ep):\n",
    "    Main.eval(\"@eval Main import Base.MainInclude: include\")\n",
    "    Main.include(\"script.jl\")\n",
    "    \n",
    "    edgelist = list(G.edges())\n",
    "    source_nodes = [x[0] for x in edgelist]\n",
    "    target_nodes = [x[1] for x in edgelist]\n",
    "    \n",
    "    Gsparse = Main.sparsifyGraph(source_nodes,target_nodes)\n",
    "    return Gsparse'''"
   ]
  }
 ],
 "metadata": {
  "kernelspec": {
   "display_name": "Python 3",
   "language": "python",
   "name": "python3"
  },
  "language_info": {
   "codemirror_mode": {
    "name": "ipython",
    "version": 3
   },
   "file_extension": ".py",
   "mimetype": "text/x-python",
   "name": "python",
   "nbconvert_exporter": "python",
   "pygments_lexer": "ipython3",
   "version": "3.8.5"
  }
 },
 "nbformat": 4,
 "nbformat_minor": 4
}
