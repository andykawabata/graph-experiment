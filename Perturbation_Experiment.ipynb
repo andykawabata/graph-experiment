{
 "cells": [
  {
   "cell_type": "code",
   "execution_count": 13,
   "metadata": {},
   "outputs": [],
   "source": [
    "import os\n",
    "import networkx as nx\n",
    "import pandas as pd\n",
    "import random"
   ]
  },
  {
   "cell_type": "code",
   "execution_count": 14,
   "metadata": {},
   "outputs": [],
   "source": [
    "edgelist = pd.read_csv('data/cora/cora.cites', sep='\\t', names=['target', 'source'])\n",
    "edgelist['label'] = 'cites'"
   ]
  },
  {
   "cell_type": "code",
   "execution_count": 15,
   "metadata": {},
   "outputs": [],
   "source": [
    "G = nx.from_pandas_edgelist(edgelist, \n",
    "                            edge_attr=\"label\", \n",
    "                            source='source',\n",
    "                            target='target'\n",
    "                           )\n",
    "# Get Largest Connected Component\n",
    "gs = [G.subgraph(c) for c in nx.connected_components(G)]\n",
    "G = max(gs, key=len)"
   ]
  },
  {
   "cell_type": "code",
   "execution_count": 16,
   "metadata": {},
   "outputs": [],
   "source": [
    "class GraphProperties:\n",
    "    DEGREE_CENTRALITY = (1, 'Degree Centrality')\n",
    "    BETWEENNESS_CENTRALITY = (2, 'Betweenness Centrality')\n",
    "    \n",
    "    @classmethod\n",
    "    def get_graph_property(cls, G, prop):\n",
    "        if(prop == 1):\n",
    "            return cls._average_degree_centrality(G)\n",
    "        if(prop == 2):\n",
    "            return cls._average_betweenness_centrality(G)\n",
    "      \n",
    "    def _average_betweenness_centrality(G):\n",
    "        return sum(dict(nx.betweenness_centrality(G)).values())/float(len(G))\n",
    "    \n",
    "\n",
    "    def _average_degree_centrality(G):\n",
    "        return sum(dict(nx.degree_centrality(G)).values())/float(len(G))             "
   ]
  },
  {
   "cell_type": "code",
   "execution_count": 17,
   "metadata": {},
   "outputs": [],
   "source": [
    "class GraphModifier:\n",
    "    graph = None\n",
    "    \n",
    "    def __init__(self, graph):\n",
    "        self.graph = graph.copy()\n",
    "        \n",
    "    # returns graph with edges removed, but leaves self.graph unchanged\n",
    "    def remove_random_edges(self, num_edges):\n",
    "        prev_edges = []\n",
    "        H = self.graph.copy()\n",
    "        for i in range(0, num_edges):\n",
    "            total_edges = H.number_of_edges()\n",
    "            rand_edge_index = random.choice([x for x in range(total_edges) if x not in prev_edges]) # SLOW\n",
    "            prev_edges.append(rand_edge_index)\n",
    "            edge_tuple = list(H.edges)[rand_edge_index]\n",
    "            H.remove_edge(*edge_tuple)\n",
    "        return H"
   ]
  },
  {
   "cell_type": "code",
   "execution_count": 21,
   "metadata": {},
   "outputs": [],
   "source": [
    "def perturb_sparsify_and_print_property(G, pert_options, graph_property, num_trials):\n",
    "    \n",
    "    print(graph_property[1], \" of the spanner of perturbed graph\")\n",
    "    print(\"Perturbation: \", pert_options['num_edges'], \" edges are randomly \", pert_options['pert_type'])\n",
    "    print(num_trials, \"Trials\")\n",
    "    \n",
    "    modifier = GraphModifier(G)\n",
    "    for i in range(num_trials):\n",
    "        H = modifier.remove_random_edges(pert_options['num_edges'])\n",
    "        Hsparse = nx.spanner(H,3,seed=1)\n",
    "        prop = GraphProperties.get_graph_property(Hsparse, graph_property[0])\n",
    "        print(prop)\n",
    "        \n",
    "def sparsify_and_print_property(G, graph_property):\n",
    "    Gsparse = nx.spanner(G,3,seed=1)\n",
    "    prop = GraphProperties.get_graph_property(Gsparse, graph_property[0])\n",
    "    print(graph_property[1], \" of the spanner of unperturbed graph\")\n",
    "    print(prop)\n",
    "    print()\n",
    "    "
   ]
  },
  {
   "cell_type": "code",
   "execution_count": 22,
   "metadata": {},
   "outputs": [
    {
     "name": "stdout",
     "output_type": "stream",
     "text": [
      "Degree Centrality  of the spanner of unperturbed graph\n",
      "0.0016352543603002179\n",
      "\n",
      "Degree Centrality  of the spanner of perturbed graph\n",
      "Perturbation:  50  edges are randomly  remove\n",
      "3 Trials\n",
      "0.0016190540991520104\n",
      "0.0016193781043749751\n",
      "0.001619054099152011\n"
     ]
    }
   ],
   "source": [
    "# Run with DEGREE CENTRALITY\n",
    "\n",
    "num_trials = 3 # How many times to repeat experiement\n",
    "graph_property = GraphProperties.DEGREE_CENTRALITY\n",
    "pert_options = {'pert_type': 'remove',\n",
    "                'num_edges': 50}\n",
    "\n",
    "sparsify_and_print_property(G, graph_property)\n",
    "perturb_sparsify_and_print_property(G, pert_options, graph_property, num_trials)"
   ]
  },
  {
   "cell_type": "code",
   "execution_count": 24,
   "metadata": {},
   "outputs": [
    {
     "name": "stdout",
     "output_type": "stream",
     "text": [
      "Betweenness Centrality  of the spanner of unperturbed graph\n",
      "0.0021407647515764416\n",
      "\n",
      "Betweenness Centrality  of the spanner of perturbed graph\n",
      "Perturbation:  50  edges are randomly  remove\n",
      "3 Trials\n",
      "0.00214412785532653\n",
      "0.002150781510710715\n",
      "0.002151038183394391\n"
     ]
    }
   ],
   "source": [
    "# Run with BETWEENNESS CENTRALITY\n",
    "\n",
    "graph_property = GraphProperties.BETWEENNESS_CENTRALITY\n",
    "\n",
    "sparsify_and_print_property(G, graph_property)\n",
    "perturb_sparsify_and_print_property(G, pert_options, graph_property, num_trials)"
   ]
  },
  {
   "cell_type": "code",
   "execution_count": null,
   "metadata": {},
   "outputs": [],
   "source": []
  }
 ],
 "metadata": {
  "kernelspec": {
   "display_name": "Python 3",
   "language": "python",
   "name": "python3"
  },
  "language_info": {
   "codemirror_mode": {
    "name": "ipython",
    "version": 3
   },
   "file_extension": ".py",
   "mimetype": "text/x-python",
   "name": "python",
   "nbconvert_exporter": "python",
   "pygments_lexer": "ipython3",
   "version": "3.8.5"
  }
 },
 "nbformat": 4,
 "nbformat_minor": 4
}
