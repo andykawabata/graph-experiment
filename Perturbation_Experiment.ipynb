{
 "cells": [
  {
   "cell_type": "code",
   "execution_count": 1,
   "metadata": {},
   "outputs": [],
   "source": [
    "from julia.api import Julia\n",
    "jl = Julia(compiled_modules=False)"
   ]
  },
  {
   "cell_type": "code",
   "execution_count": 2,
   "metadata": {},
   "outputs": [],
   "source": [
    "import os\n",
    "import networkx as nx\n",
    "import pandas as pd\n",
    "import random\n",
    "import numpy as np\n",
    "from julia import Main\n",
    "import matplotlib.pyplot as plt"
   ]
  },
  {
   "cell_type": "code",
   "execution_count": 3,
   "metadata": {},
   "outputs": [],
   "source": [
    "class DataSets:\n",
    "    base_path = 'data/'\n",
    "    CORA =     {'path': 'cora/cora.cites', 'sep': '\\t', 'name': 'Cora'}  # ~ 5K edges 2K nodes\n",
    "    FACEBOOK = {'path': 'facebook/facebook_combined.txt', 'sep': ' ', 'name': 'Facebook'} # ~88K edges 4K nodes\n",
    "    ENRON_EMAILS = {'path': 'enron/email-Enron.txt', 'sep': '\\t', 'name': 'Enron Emails'} # ~ 184K edges 33K nodes\n",
    "\n",
    "    # returns an networkx graph object representing the dataset\n",
    "    # if lcc is true, it returns only largest connected component\n",
    "    @classmethod\n",
    "    def get_undirected_networkx_graph(cls, dataset, lcc=True):\n",
    "        path = cls.base_path + dataset['path']\n",
    "        separator = dataset['sep']\n",
    "        edgelist = pd.read_csv(path, sep=separator, names=['target', 'source'], comment='#')\n",
    "        G = nx.from_pandas_edgelist(edgelist)\n",
    "        if lcc == True:\n",
    "            gs = [G.subgraph(c) for c in nx.connected_components(G)]\n",
    "            G = max(gs, key=len)\n",
    "        return G\n",
    "    \n",
    "    @classmethod\n",
    "    def print_graph_properties(cls, dataset):\n",
    "        path = cls.base_path + dataset['path']\n",
    "        separator = dataset['sep']\n",
    "        edgelist = pd.read_csv(path, sep=separator, names=['target', 'source'], comment='#')\n",
    "        G = nx.from_pandas_edgelist(edgelist)\n",
    "        print(\"--\", dataset['name'], \"--\")\n",
    "        print(\"FULL GRAPH - nodes:\", G.number_of_nodes(), \"edges:\", G.number_of_edges())\n",
    "        gs = [G.subgraph(c) for c in nx.connected_components(G)]\n",
    "        G = max(gs, key=len)\n",
    "        print(\"LCC -        nodes:\", G.number_of_nodes(), \"edges:\", G.number_of_edges(), '\\n')"
   ]
  },
  {
   "cell_type": "code",
   "execution_count": 4,
   "metadata": {},
   "outputs": [
    {
     "name": "stdout",
     "output_type": "stream",
     "text": [
      "-- Cora --\n",
      "FULL GRAPH - nodes: 2708 edges: 5278\n",
      "LCC -        nodes: 2485 edges: 5069 \n",
      "\n",
      "-- Facebook --\n",
      "FULL GRAPH - nodes: 4039 edges: 88234\n",
      "LCC -        nodes: 4039 edges: 88234 \n",
      "\n",
      "-- Enron Emails --\n",
      "FULL GRAPH - nodes: 36692 edges: 183831\n",
      "LCC -        nodes: 33696 edges: 180811 \n",
      "\n"
     ]
    }
   ],
   "source": [
    "DataSets.print_graph_properties(DataSets.CORA)\n",
    "DataSets.print_graph_properties(DataSets.FACEBOOK)\n",
    "DataSets.print_graph_properties(DataSets.ENRON_EMAILS)"
   ]
  },
  {
   "cell_type": "code",
   "execution_count": 6,
   "metadata": {},
   "outputs": [],
   "source": [
    "class GraphProperties:\n",
    "    DEGREE_CENTRALITY = {'id': 1, 'name': 'Degree Centrality'}\n",
    "    BETWEENNESS_CENTRALITY = {'id': 2, 'name': 'Betweenness Centrality'}\n",
    "    EIGENVALUES = {'id': 3, 'name': 'Eigenvalues'}\n",
    "    RANK = {'id': 4, 'name': 'Rank'}\n",
    "    \n",
    "    @classmethod\n",
    "    def get_graph_property(cls, G, prop):\n",
    "        if(prop['id'] == 1):\n",
    "            return cls._average_degree_centrality(G)\n",
    "        if(prop['id'] == 2):\n",
    "            return cls._average_betweenness_centrality(G)\n",
    "        if(prop['id'] == 3):\n",
    "            return cls._eigenvalues(G)\n",
    "        if(prop['id'] == 4):\n",
    "            return cls._rank(G)\n",
    "      \n",
    "    def _average_betweenness_centrality(G):\n",
    "        return sum(dict(nx.betweenness_centrality(G)).values())/float(len(G))\n",
    "    \n",
    "\n",
    "    def _average_degree_centrality(G):\n",
    "        return sum(dict(nx.degree_centrality(G)).values())/float(len(G))    \n",
    "    \n",
    "    # returns sorted list (decreasing) of graph's eigenvalues    \n",
    "    def _eigenvalues(G):\n",
    "        L = nx.normalized_laplacian_matrix(G)\n",
    "        e = np.linalg.eigvals(L.A).real\n",
    "        e = sorted(e, reverse=True)\n",
    "        return e\n",
    "    \n",
    "    def _rank(G):\n",
    "        A = nx.to_numpy_matrix(G)\n",
    "        rank = np.linalg.matrix_rank(A)\n",
    "        return rank\n",
    "        "
   ]
  },
  {
   "cell_type": "code",
   "execution_count": 7,
   "metadata": {},
   "outputs": [],
   "source": [
    "class GraphModifier:\n",
    "    G = None\n",
    "    H = None\n",
    "    \n",
    "    ADD_RANDOM = 1\n",
    "    REMOVE_RANDOM = 2\n",
    "    REMOVE_ORDERED = 3\n",
    "    \n",
    "    def __init__(self, graph):\n",
    "        self.G = graph.copy()\n",
    "        #self.H = graph.copy()\n",
    "        \n",
    "    def perturb_graph(self, perturb_type, percent_edges, offset=None):\n",
    "        if perturb_type == 1:\n",
    "            return self._add_random_unweighted_edges(percent_edges)\n",
    "        if perturb_type == 2:\n",
    "            return self._remove_random_edges(percent_edges)\n",
    "        if perturb_type == 3:\n",
    "            return self._remove_ordered_edges(percent_edges, offset)\n",
    "        \n",
    "        \n",
    "    # returns graph with edges removed, but leaves self.graph unchanged\n",
    "    def _remove_random_edges(self, percent_edges):\n",
    "        self.H = self.G.copy()\n",
    "        num_edges = int(self.G.number_of_edges()*(percent_edges/100))\n",
    "        current_edges = list(self.G.edges)\n",
    "        for i in range(0, num_edges):\n",
    "            current_total_edges = len(current_edges)\n",
    "            rand_edge_index = random.randrange(current_total_edges)\n",
    "            edge_tuple = current_edges[rand_edge_index]\n",
    "            self.H.remove_edge(*edge_tuple)\n",
    "            del current_edges[rand_edge_index]\n",
    "        return self.H\n",
    "    \n",
    "    def _remove_ordered_edges(self, percent_edges, offset):\n",
    "        self.H = self.G.copy()\n",
    "        num_edges = int(self.G.number_of_edges()*(percent_edges/100))\n",
    "        start_index = num_edges*offset\n",
    "        end_index = start_index + num_edges\n",
    "        if end_index > self.G.number_of_edges(): # if out of bounds\n",
    "            return False\n",
    "        edge_list = list(self.G.edges)\n",
    "        edges_to_remove = edge_list[start_index:end_index]\n",
    "        for edge_tuple in edges_to_remove:\n",
    "            self.H.remove_edge(*edge_tuple)\n",
    "        return self.H\n",
    "    \n",
    "    # Randomly adds new edges. Percent is the percent of edges originally in graph\n",
    "    # Currently doesn't avoid duplicates, however randomly generating a duplicate \\\n",
    "    # is rare since the graph is sparse\n",
    "    # But the number of edges actually added will be slightly less than desired\n",
    "    # Checking for duplicates is slow\n",
    "    def _add_random_unweighted_edges(self, percent_edges):\n",
    "        self.H = self.G.copy()\n",
    "        num_edges = int(self.G.number_of_edges()*(percent_edges/100))\n",
    "        node_list =  list(self.H.nodes())\n",
    "        for i in range(num_edges):\n",
    "            edge = np.random.choice(node_list, size=2)\n",
    "            self.H.add_edge(*edge)\n",
    "        return self.H\n",
    "            \n"
   ]
  },
  {
   "cell_type": "code",
   "execution_count": 8,
   "metadata": {},
   "outputs": [],
   "source": [
    "def sparsify_spanner(G, r):\n",
    "    return nx.spanner(G, r, seed=7)"
   ]
  },
  {
   "cell_type": "code",
   "execution_count": 9,
   "metadata": {},
   "outputs": [],
   "source": [
    "def sparsify_spectral(G, ep):\n",
    "    Main.eval(\"@eval Main import Base.MainInclude: include\")\n",
    "    Main.include(\"script.jl\")\n",
    "    \n",
    "    edgelist = list(G.edges())\n",
    "    source_nodes = [x[0] for x in edgelist]\n",
    "    target_nodes = [x[1] for x in edgelist]\n",
    "    \n",
    "    Gsparse = Main.sparsifyGraph(source_nodes,target_nodes)\n",
    "    return Gsparse"
   ]
  },
  {
   "cell_type": "code",
   "execution_count": null,
   "metadata": {},
   "outputs": [],
   "source": [
    "#G = DataSets.get_undirected_networkx_graph(DataSets.CORA)\n",
    "#sparsify_spectral(G, ep=3)"
   ]
  },
  {
   "cell_type": "markdown",
   "metadata": {},
   "source": [
    "# Eigenvalues of perturbed graph (no sparsification)"
   ]
  },
  {
   "cell_type": "code",
   "execution_count": null,
   "metadata": {},
   "outputs": [],
   "source": [
    "G = DataSets.get_undirected_networkx_graph(DataSets.CORA)\n",
    "\n",
    "graph_property = GraphProperties.EIGENVALUES\n",
    "perturb_type = GraphModifier.REMOVE_RANDOM\n",
    "percentages = [0,1,3,5,10]\n",
    "num_trials = 1\n",
    "\n",
    "df = pd.DataFrame()\n",
    "modifier = GraphModifier(G)\n",
    "\n",
    "for percentage in percentages:\n",
    "    H = modifier.perturb_graph(perturb_type, percentage)\n",
    "    eigenvalues = GraphProperties.get_graph_property(H, graph_property)\n",
    "    df[str(percentage)] = eigenvalues[0:1000]"
   ]
  },
  {
   "cell_type": "code",
   "execution_count": null,
   "metadata": {},
   "outputs": [],
   "source": [
    "df = df.loc[0:500]\n",
    "fig = plt.figure()\n",
    "#fig.set_size_inches(18.5, 10.5)\n",
    "plt.plot(df)\n",
    "plt.legend(df.columns)\n",
    "plt.show()"
   ]
  },
  {
   "cell_type": "markdown",
   "metadata": {},
   "source": [
    "# Eigenvalues after sparsifying perturbed graph"
   ]
  },
  {
   "cell_type": "code",
   "execution_count": 12,
   "metadata": {},
   "outputs": [],
   "source": [
    "G = DataSets.get_undirected_networkx_graph(DataSets.CORA)\n",
    "\n",
    "graph_property = GraphProperties.EIGENVALUES\n",
    "perturb_type = GraphModifier.REMOVE_RANDOM\n",
    "percentages = [0,1,3,5,10]\n",
    "num_trials = 1\n",
    "\n",
    "df = pd.DataFrame()\n",
    "modifier = GraphModifier(G)\n",
    "\n",
    "for percentage in percentages:\n",
    "    H = modifier.perturb_graph(perturb_type, percentage)\n",
    "    Hsparse = sparsify_spanner(H, r=3)\n",
    "    eigenvalues = GraphProperties.get_graph_property(Hsparse, graph_property)\n",
    "    df[str(percentage)] = eigenvalues[0:1000]"
   ]
  },
  {
   "cell_type": "code",
   "execution_count": 13,
   "metadata": {},
   "outputs": [
    {
     "data": {
      "image/png": "[encoded data removed]",
      "text/plain": [
       "<Figure size 432x288 with 1 Axes>"
      ]
     },
     "metadata": {
      "needs_background": "light"
     },
     "output_type": "display_data"
    }
   ],
   "source": [
    "df = df.loc[0:500]\n",
    "fig = plt.figure()\n",
    "#fig.set_size_inches(18.5, 10.5)\n",
    "plt.plot(df)\n",
    "plt.legend(df.columns)\n",
    "plt.show()"
   ]
  },
  {
   "cell_type": "markdown",
   "metadata": {},
   "source": [
    "# Rank"
   ]
  },
  {
   "cell_type": "markdown",
   "metadata": {},
   "source": [
    "### Without Sparsification"
   ]
  },
  {
   "cell_type": "code",
   "execution_count": 15,
   "metadata": {},
   "outputs": [],
   "source": [
    "G = DataSets.get_undirected_networkx_graph(DataSets.CORA)\n",
    "\n",
    "graph_property = GraphProperties.RANK\n",
    "perturb_type = GraphModifier.REMOVE_RANDOM\n",
    "percentages = [0,1,2,3,4,5,6,7,8,9,10]\n",
    "num_trials = 1\n",
    "original_rank = GraphProperties.get_graph_property(G, graph_property)\n",
    "\n",
    "modifier = GraphModifier(G)\n",
    "reduction_rates = []\n",
    "\n",
    "for percentage in percentages:\n",
    "    H = modifier.perturb_graph(perturb_type, percentage)\n",
    "    pert_rank = GraphProperties.get_graph_property(H, graph_property)\n",
    "    reduction_rate = abs(pert_rank/original_rank - 1)\n",
    "    reduction_rates.append(reduction_rate)\n",
    "\n",
    "data = {'pert_rate': percentages,\n",
    "        'reduction_rate': reduction_rates}\n",
    "df = pd.DataFrame(data)"
   ]
  },
  {
   "cell_type": "code",
   "execution_count": 16,
   "metadata": {},
   "outputs": [
    {
     "data": {
      "image/png": "[encoded data removed]",
      "text/plain": [
       "<Figure size 432x288 with 1 Axes>"
      ]
     },
     "metadata": {
      "needs_background": "light"
     },
     "output_type": "display_data"
    }
   ],
   "source": [
    "fig = plt.figure()\n",
    "plt.plot(df['pert_rate'], df['reduction_rate'])\n",
    "plt.show()"
   ]
  },
  {
   "cell_type": "markdown",
   "metadata": {},
   "source": [
    "### With Sparsification"
   ]
  },
  {
   "cell_type": "code",
   "execution_count": 17,
   "metadata": {},
   "outputs": [],
   "source": [
    "G = DataSets.get_undirected_networkx_graph(DataSets.CORA)\n",
    "\n",
    "graph_property = GraphProperties.RANK\n",
    "perturb_type = GraphModifier.REMOVE_RANDOM\n",
    "percentages = [0,1,2,3,4,5,6,7,8,9,10]\n",
    "num_trials = 1\n",
    "original_rank = GraphProperties.get_graph_property(G, graph_property)\n",
    "\n",
    "modifier = GraphModifier(G)\n",
    "reduction_rates = []\n",
    "\n",
    "for percentage in percentages:\n",
    "    H = modifier.perturb_graph(perturb_type, percentage)\n",
    "    Hsparse = sparsify_spanner(H, r=3)\n",
    "    pert_rank = GraphProperties.get_graph_property(Hsparse, graph_property)\n",
    "    reduction_rate = abs(pert_rank/original_rank - 1)\n",
    "    reduction_rates.append(reduction_rate)\n",
    "\n",
    "data = {'pert_rate': percentages,\n",
    "        'reduction_rate': reduction_rates}\n",
    "df = pd.DataFrame(data)"
   ]
  },
  {
   "cell_type": "code",
   "execution_count": 19,
   "metadata": {},
   "outputs": [
    {
     "data": {
      "image/png": "[encoded data removed]",
      "text/plain": [
       "<Figure size 432x288 with 1 Axes>"
      ]
     },
     "metadata": {
      "needs_background": "light"
     },
     "output_type": "display_data"
    }
   ],
   "source": [
    "fig = plt.figure()\n",
    "plt.plot(df['pert_rate'], df['reduction_rate'])\n",
    "plt.xlabel(\"percent edges removed before sparsification\")\n",
    "plt.ylabel(\"rank change rate\")\n",
    "plt.show()"
   ]
  },
  {
   "cell_type": "markdown",
   "metadata": {},
   "source": [
    "# Run with DEGREE CENTRALITY and ADDING EDGES (randomly)\n",
    "\n",
    "!!! Currently only small percentages work because speed of Adding Random Edges function (20% takes a 1-2 minutes to do edge removal with ENRON)"
   ]
  },
  {
   "cell_type": "code",
   "execution_count": 28,
   "metadata": {},
   "outputs": [
    {
     "name": "stdout",
     "output_type": "stream",
     "text": [
      "0.0003126811277128498 \n",
      "\n",
      "0.00032148341491946186\n",
      "0.0003214358540320158\n"
     ]
    }
   ],
   "source": [
    "G = DataSets.get_undirected_networkx_graph(DataSets.ENRON_EMAILS)\n",
    "\n",
    "graph_property = GraphProperties.DEGREE_CENTRALITY\n",
    "perturb_type = GraphModifier.ADD_RANDOM\n",
    "num_trials = 2\n",
    "perecent_edges = 5\n",
    "\n",
    "# Sparsify unperturbed graph and print property\n",
    "Gsparse = nx.spanner(G,3,seed=1)\n",
    "prop = GraphProperties.get_graph_property(Gsparse, graph_property)\n",
    "print(prop, '\\n')\n",
    "\n",
    "# Perturb graph, then sparsify, then print property\n",
    "modifier = GraphModifier(G)\n",
    "for i in range(num_trials):\n",
    "    H = modifier.perturb_graph(perturb_type, perecent_edges)\n",
    "    sparsify_spanner(H, r=3)\n",
    "    prop = GraphProperties.get_graph_property(Hsparse, graph_property)\n",
    "    print(prop)"
   ]
  },
  {
   "cell_type": "markdown",
   "metadata": {},
   "source": [
    "# Run with DEGREE CENTRALITY and REMOVING EDGES (randomly)"
   ]
  },
  {
   "cell_type": "code",
   "execution_count": 31,
   "metadata": {},
   "outputs": [
    {
     "name": "stdout",
     "output_type": "stream",
     "text": [
      "0.0003147738067605656 \n",
      "\n",
      "0.00024533843411508687\n",
      "0.00024526445051239283\n",
      "0.0002451746132805436\n",
      "0.0002457611975590675\n",
      "0.0002455057779783289\n"
     ]
    }
   ],
   "source": [
    "G = DataSets.get_undirected_networkx_graph(DataSets.ENRON_EMAILS)\n",
    "num_trials = 5\n",
    "perecent_edges = 20\n",
    "graph_property = GraphProperties.DEGREE_CENTRALITY\n",
    "perturb_type = GraphModifier.REMOVE_RANDOM\n",
    "\n",
    "# Sparsify unperturbed graph and print property\n",
    "Gsparse = nx.spanner(G,3,seed=1)\n",
    "prop = GraphProperties.get_graph_property(Gsparse, graph_property)\n",
    "print(prop, '\\n')\n",
    "\n",
    "# Perturb graph, then sparsify, then print property\n",
    "modifier = GraphModifier(G)\n",
    "for i in range(num_trials):\n",
    "    H = modifier.perturb_graph(perturb_type, perecent_edges)\n",
    "    Hsparse = sparsify_spanner(H, r=3)\n",
    "    prop = GraphProperties.get_graph_property(Hsparse, graph_property)\n",
    "    print(prop)"
   ]
  },
  {
   "cell_type": "markdown",
   "metadata": {},
   "source": [
    "# Run with DEGREE CENTRALITY and REMOVING EDGES (in order)"
   ]
  },
  {
   "cell_type": "code",
   "execution_count": 30,
   "metadata": {},
   "outputs": [
    {
     "name": "stdout",
     "output_type": "stream",
     "text": [
      "0.0003005196326409398 \n",
      "\n",
      "0.0002512518377878124\n",
      "0.00025134519804835727\n",
      "0.0002521114567905541\n",
      "0.0002537514266503264\n",
      "0.00025220657856543546\n"
     ]
    }
   ],
   "source": [
    "G = DataSets.get_undirected_networkx_graph(DataSets.ENRON_EMAILS)\n",
    "\n",
    "graph_property = GraphProperties.DEGREE_CENTRALITY\n",
    "perturb_type = GraphModifier.REMOVE_ORDERED\n",
    "percent_edges = 20\n",
    "\n",
    "# Sparsify unperturbed graph and print property\n",
    "Gsparse = nx.spanner(G,3,seed=7)\n",
    "prop = GraphProperties.get_graph_property(Gsparse, graph_property)\n",
    "print(prop,'\\n')\n",
    "    \n",
    "# Perturb graph, then sparsify, then print property\n",
    "total_edges = G.number_of_edges()\n",
    "num_rounds = int(100/percent_edges)\n",
    "modifier = GraphModifier(G)\n",
    "for i in range(num_rounds):\n",
    "    H = modifier.perturb_graph(perturb_type, percent_edges, offset=i)\n",
    "    Hsparse = sparsify_spanner(H, r=3)\n",
    "    prop = GraphProperties.get_graph_property(Hsparse, graph_property)\n",
    "    print(prop)"
   ]
  },
  {
   "cell_type": "markdown",
   "metadata": {},
   "source": [
    "# Run with BETWEENNESS CENTRALITY and REMOVING EDGES (randomly)\n",
    "\n",
    "! networkx Betweenness Centrality method takes to long on graph 6000+ edges"
   ]
  },
  {
   "cell_type": "code",
   "execution_count": null,
   "metadata": {},
   "outputs": [],
   "source": [
    "graph_property = GraphProperties.BETWEENNESS_CENTRALITY\n",
    "perturb_type = GraphModifier.REMOVE_RANDOM\n",
    "\n",
    "# Sparsify unperturbed graph and print property\n",
    "Gsparse = nx.spanner(G,3,seed=1)\n",
    "prop = GraphProperties.get_graph_property(Gsparse, graph_property)\n",
    "print(prop, '\\n')\n",
    "\n",
    "# Perturb graph, then sparsify, then print property\n",
    "num_trials = 5\n",
    "percent_edges = .001\n",
    "modifier = GraphModifier(G)\n",
    "for i in range(num_trials):\n",
    "    H = modifier.perturb_graph(perturb_type, percent_edges)\n",
    "    sparsify_spanner(H, r=3)\n",
    "    prop = GraphProperties.get_graph_property(Hsparse, graph_property)\n",
    "    print(prop)"
   ]
  },
  {
   "cell_type": "code",
   "execution_count": null,
   "metadata": {},
   "outputs": [],
   "source": []
  },
  {
   "cell_type": "code",
   "execution_count": null,
   "metadata": {},
   "outputs": [],
   "source": []
  },
  {
   "cell_type": "code",
   "execution_count": null,
   "metadata": {},
   "outputs": [],
   "source": []
  },
  {
   "cell_type": "code",
   "execution_count": null,
   "metadata": {},
   "outputs": [],
   "source": []
  },
  {
   "cell_type": "code",
   "execution_count": null,
   "metadata": {},
   "outputs": [],
   "source": []
  },
  {
   "cell_type": "code",
   "execution_count": null,
   "metadata": {},
   "outputs": [],
   "source": []
  }
 ],
 "metadata": {
  "kernelspec": {
   "display_name": "Python 3",
   "language": "python",
   "name": "python3"
  },
  "language_info": {
   "codemirror_mode": {
    "name": "ipython",
    "version": 3
   },
   "file_extension": ".py",
   "mimetype": "text/x-python",
   "name": "python",
   "nbconvert_exporter": "python",
   "pygments_lexer": "ipython3",
   "version": "3.8.5"
  }
 },
 "nbformat": 4,
 "nbformat_minor": 4
}
