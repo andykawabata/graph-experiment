{
 "cells": [
  {
   "cell_type": "code",
   "execution_count": 6,
   "metadata": {},
   "outputs": [
    {
     "data": {
      "text/plain": [
       "9×9 SparseMatrixCSC{Float64,Int64} with 24 stored entries:\n",
       "  [2, 1]  =  1.0\n",
       "  [4, 1]  =  1.0\n",
       "  [1, 2]  =  1.0\n",
       "  [3, 2]  =  1.0\n",
       "  [5, 2]  =  1.0\n",
       "  [2, 3]  =  1.0\n",
       "  [6, 3]  =  1.0\n",
       "  [1, 4]  =  1.0\n",
       "  [5, 4]  =  1.0\n",
       "  [7, 4]  =  1.0\n",
       "  [2, 5]  =  1.0\n",
       "  [4, 5]  =  1.0\n",
       "  [6, 5]  =  1.0\n",
       "  [8, 5]  =  1.0\n",
       "  [3, 6]  =  1.0\n",
       "  [5, 6]  =  1.0\n",
       "  [9, 6]  =  1.0\n",
       "  [4, 7]  =  1.0\n",
       "  [8, 7]  =  1.0\n",
       "  [5, 8]  =  1.0\n",
       "  [7, 8]  =  1.0\n",
       "  [9, 8]  =  1.0\n",
       "  [6, 9]  =  1.0\n",
       "  [8, 9]  =  1.0"
      ]
     },
     "execution_count": 6,
     "metadata": {},
     "output_type": "execute_result"
    }
   ],
   "source": [
    "using Laplacians\n",
    "using SparseArrays\n",
    "\n",
    "G = grid2(3)"
   ]
  },
  {
   "cell_type": "code",
   "execution_count": 7,
   "metadata": {},
   "outputs": [
    {
     "name": "stderr",
     "output_type": "stream",
     "text": [
      "┌ Warning: Calling sparsify with ep > 1 can produce a disconnected graph.\n",
      "└ @ Laplacians /Users/andrewkawabata/.julia/packages/Laplacians/CD1YV/src/sparsify.jl:18\n"
     ]
    },
    {
     "data": {
      "text/plain": [
       "9×9 SparseMatrixCSC{Float64,Int64} with 10 stored entries:\n",
       "  [3, 2]  =  1.80579\n",
       "  [2, 3]  =  1.80579\n",
       "  [6, 3]  =  1.0\n",
       "  [3, 6]  =  1.0\n",
       "  [9, 6]  =  1.02718\n",
       "  [8, 7]  =  3.46943\n",
       "  [7, 8]  =  3.46943\n",
       "  [9, 8]  =  1.67047\n",
       "  [6, 9]  =  1.02718\n",
       "  [8, 9]  =  1.67047"
      ]
     },
     "execution_count": 7,
     "metadata": {},
     "output_type": "execute_result"
    }
   ],
   "source": [
    "Gsparse = sparsify(G, ep=3)"
   ]
  },
  {
   "cell_type": "code",
   "execution_count": null,
   "metadata": {},
   "outputs": [],
   "source": []
  }
 ],
 "metadata": {
  "kernelspec": {
   "display_name": "Julia 1.5.3",
   "language": "julia",
   "name": "julia-1.5"
  },
  "language_info": {
   "file_extension": ".jl",
   "mimetype": "application/julia",
   "name": "julia",
   "version": "1.5.3"
  }
 },
 "nbformat": 4,
 "nbformat_minor": 4
}
